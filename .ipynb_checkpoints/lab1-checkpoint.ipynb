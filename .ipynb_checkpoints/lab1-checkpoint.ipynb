{
 "cells": [
  {
   "cell_type": "code",
   "execution_count": null,
   "id": "326a1c31-5fbc-4cb9-b960-adb290b61d96",
   "metadata": {},
   "outputs": [],
   "source": []
  },
  {
   "cell_type": "markdown",
   "id": "b47c9943-6381-4edf-8d07-aa783b02edfe",
   "metadata": {},
   "source": [
    "Todo:\n",
    "\n",
    "1. 履修登録\n",
    "2. Real time speech recognitions\n",
    "3. Forward kinematic of the camera platfrom, buy parts for that projects,\n",
    "4. Buy big nails for solenoids\n",
    "5. Buy Cables for making Solenoids\n",
    "6. Stepper motor driver boards\n",
    "7. encoder"
   ]
  },
  {
   "cell_type": "markdown",
   "id": "62bd497c-0f28-4faf-8c6c-e4b5a6e761e8",
   "metadata": {},
   "source": [
    "Transcriptions"
   ]
  },
  {
   "cell_type": "markdown",
   "id": "7a8659a9-2575-467f-8e4a-b99a3c737b81",
   "metadata": {},
   "source": [
    "## 1. record\n",
    "## 2.\n",
    "\n"
   ]
  },
  {
   "cell_type": "code",
   "execution_count": null,
   "id": "f276974b-1ee7-4b1b-86ab-5ded55562c7b",
   "metadata": {},
   "outputs": [],
   "source": [
    "import glob"
   ]
  },
  {
   "cell_type": "code",
   "execution_count": null,
   "id": "1787c7f2-6d42-487b-9d58-01d8a0951ce0",
   "metadata": {},
   "outputs": [],
   "source": [
    "import whisper\n"
   ]
  },
  {
   "cell_type": "code",
   "execution_count": 3,
   "id": "763ed03a-79ce-4b42-a082-47f731a115ba",
   "metadata": {},
   "outputs": [
    {
     "name": "stderr",
     "output_type": "stream",
     "text": [
      "/Library/Frameworks/Python.framework/Versions/3.10/lib/python3.10/site-packages/whisper/transcribe.py:126: UserWarning: FP16 is not supported on CPU; using FP32 instead\n",
      "  warnings.warn(\"FP16 is not supported on CPU; using FP32 instead\")\n"
     ]
    },
    {
     "name": "stdout",
     "output_type": "stream",
     "text": [
      "皆さんこんにちはおくむらです土曜の4弦日本語1Cの事業を始めましょう10月になりました10月4月から9月まで日本の場合は4月始まり 年度の始まりが4月なので9月までが半分という感じなんですね10月から3月までが高規の反規という感じがするんですけれどもねそういうわけで年度の半分は終わってしまいました4月から6月までは日本ではコロナの影響をコロナかで外に出ないようにとかいうこともありましたのでねできるだけ不余不休の外出は控えるなどということ言いましてあんまり外に出なかったし7月から9月は熱いなーとか言ってるうちにそれから忙しいなーとかまたまたしてるうちに思わってしまったという印象がという印象がありますよね10月からどうでしょういいことありますかねこれから冬に向かうのでより一層風とかインフルエンザーとか新型コロナーとかに気をつけないといけないですねやはり営業、水民その他メイン気力を上げ\n"
     ]
    }
   ],
   "source": [
    "# Load the pre-trained model\n",
    "model = whisper.load_model(\"base\")\n",
    "\n",
    "# Transcribe the audio file\n",
    "result = model.transcribe(\"./audio/test1.mp3\")\n",
    "\n",
    "# Print the recognized text\n",
    "print(result[\"text\"])\n"
   ]
  },
  {
   "cell_type": "code",
   "execution_count": 11,
   "id": "29793af9-4f0f-409f-8315-62590b44f152",
   "metadata": {},
   "outputs": [],
   "source": [
    "# Conversion from mp3 to wav\n",
    "from pydub import AudioSegment\n",
    "\n",
    "def convert_mp3_to_wav(mp3_path, wav_path):\n",
    "    audio = AudioSegment.from_mp3(mp3_path)\n",
    "    audio = audio.set_frame_rate(16000).set_channels(1).set_sample_width(2)\n",
    "    audio.export(wav_path, format=\"wav\")\n",
    "\n",
    "mp3_path = \"./audio/test1.mp3\"\n",
    "wav_path = \"./audio/test1.wav\"\n",
    "convert_mp3_to_wav(mp3_path, wav_path)\n"
   ]
  },
  {
   "cell_type": "code",
   "execution_count": 14,
   "id": "8c009cd7-9eaf-429e-9d2e-f2e3d2c7d406",
   "metadata": {},
   "outputs": [],
   "source": [
    "# Voice line segmentations\n",
    "import webrtcvad\n",
    "import wave\n",
    "import numpy as np\n",
    "import os\n",
    "\n",
    "\n",
    "# Read WAV file\n",
    "def read_wave(path):\n",
    "    with wave.open(path, \"rb\") as wf:\n",
    "        num_channels = wf.getnchannels()\n",
    "        sample_width = wf.getsampwidth()\n",
    "        sample_rate = wf.getframerate()\n",
    "        pcm_data = wf.readframes(wf.getnframes())\n",
    "        return pcm_data, sample_rate, num_channels, sample_width\n",
    "\n",
    "# Write WAV file\n",
    "def write_wave(path, audio, sample_rate, sample_width, num_channels):\n",
    "    with wave.open(path, \"wb\") as wf:\n",
    "        wf.setnchannels(num_channels)\n",
    "        wf.setsampwidth(sample_width)\n",
    "        wf.setframerate(sample_rate)\n",
    "        wf.writeframes(audio)\n",
    "\n",
    "# Segment audio using VAD\n",
    "def segment_audio(wav_path, output_dir, frame_duration_ms=30):\n",
    "    audio, sample_rate, num_channels, sample_width = read_wave(wav_path)\n",
    "    vad = webrtcvad.Vad()\n",
    "    vad.set_mode(1)  # Adjust aggressiveness from 0 to 3\n",
    "\n",
    "    frame_size = int(sample_rate * frame_duration_ms / 1000 * sample_width)\n",
    "    segments = []\n",
    "    segment = b''\n",
    "\n",
    "    for i in range(0, len(audio), frame_size):\n",
    "        frame = audio[i:i + frame_size]\n",
    "        if len(frame) == frame_size:\n",
    "            if vad.is_speech(frame, sample_rate):\n",
    "                segment += frame\n",
    "            else:\n",
    "                if len(segment) > 0:\n",
    "                    segments.append(segment)\n",
    "                    segment = b''\n",
    "    if len(segment) > 0:\n",
    "        segments.append(segment)\n",
    "\n",
    "    for i, segment in enumerate(segments):\n",
    "        segment_path = os.path.join(output_dir, f\"segment_{i}.wav\")\n",
    "        write_wave(segment_path, segment, sample_rate, sample_width, num_channels)\n",
    "\n",
    "\n",
    "# Paths\n",
    "output_dir = \"./segments\"\n",
    "\n",
    "# Ensure output directory exists\n",
    "os.makedirs(output_dir, exist_ok=True)\n",
    "\n",
    "# Segment audio\n",
    "segment_audio(wav_path, output_dir)\n",
    "\n"
   ]
  },
  {
   "cell_type": "code",
   "execution_count": null,
   "id": "4909128d-d057-40ec-85fd-588e48730fa8",
   "metadata": {},
   "outputs": [],
   "source": [
    "import glob\n",
    "glob.glob('segments/*')"
   ]
  },
  {
   "cell_type": "code",
   "execution_count": null,
   "id": "5983d95e-8d25-4324-8d90-3b405f1aa5b4",
   "metadata": {},
   "outputs": [],
   "source": []
  },
  {
   "cell_type": "code",
   "execution_count": 25,
   "id": "3b4ad1cb-643d-4d6e-bb13-f0b36f169cb2",
   "metadata": {},
   "outputs": [
    {
     "name": "stdout",
     "output_type": "stream",
     "text": [
      "  0 “Mo school mo work just meow meow”的麦克风, Core Audio (1 in, 0 out)\n",
      "> 1 WH-CH720N, Core Audio (1 in, 0 out)\n",
      "< 2 WH-CH720N, Core Audio (0 in, 2 out)\n",
      "  3 MacBook Pro麦克风, Core Audio (1 in, 0 out)\n",
      "  4 MacBook Pro扬声器, Core Audio (0 in, 2 out)\n",
      "  5 Microsoft Teams Audio, Core Audio (2 in, 2 out)\n",
      "  6 ZoomAudioDevice, Core Audio (2 in, 2 out)\n"
     ]
    }
   ],
   "source": [
    "# Recording\n",
    "\n",
    "\n",
    "import sounddevice as sd\n",
    "\n",
    "print(sd.query_devices())\n"
   ]
  },
  {
   "cell_type": "code",
   "execution_count": null,
   "id": "5f73f555-b727-46b0-92d9-09d01516d762",
   "metadata": {},
   "outputs": [],
   "source": []
  },
  {
   "cell_type": "code",
   "execution_count": 4,
   "id": "d0d4a27f-3a49-435e-8373-a1955cf6e655",
   "metadata": {},
   "outputs": [],
   "source": [
    "def save_string_to_file(string, filename, mode='w'):\n",
    "    with open(filename, mode) as file:\n",
    "        file.write('\\n'+string)\n",
    "    print(f\"String saved to {filename}\")\n",
    "    "
   ]
  },
  {
   "cell_type": "code",
   "execution_count": 5,
   "id": "252c3fee-0a9a-4eeb-aac5-afaf5922af7d",
   "metadata": {},
   "outputs": [
    {
     "name": "stdout",
     "output_type": "stream",
     "text": [
      "String saved to name.txt\n"
     ]
    }
   ],
   "source": [
    "str_ = '21213'\n",
    "\n",
    "name = 'name.txt'\n",
    "\n",
    "save_string_to_file(str_, name, mode='a')"
   ]
  },
  {
   "cell_type": "code",
   "execution_count": 9,
   "id": "024b6ccb-9fa1-4e88-855f-e67c82e0b649",
   "metadata": {},
   "outputs": [
    {
     "data": {
      "text/plain": [
       "1.0002002716064453"
      ]
     },
     "execution_count": 9,
     "metadata": {},
     "output_type": "execute_result"
    }
   ],
   "source": [
    "import time\n",
    "\n",
    "now = time.time()\n",
    "time.sleep(1)\n",
    "time.time() - now"
   ]
  },
  {
   "cell_type": "code",
   "execution_count": 15,
   "id": "9af47e1a-48b1-4687-b871-a60848e14541",
   "metadata": {},
   "outputs": [
    {
     "data": {
      "text/plain": [
       "1"
      ]
     },
     "execution_count": 15,
     "metadata": {},
     "output_type": "execute_result"
    }
   ],
   "source": [
    "round(5 % 2)"
   ]
  },
  {
   "cell_type": "code",
   "execution_count": 25,
   "id": "f9deffe4-2890-4c10-84c9-a6323ffde975",
   "metadata": {},
   "outputs": [
    {
     "data": {
      "text/plain": [
       "0.09999999999999973"
      ]
     },
     "execution_count": 25,
     "metadata": {},
     "output_type": "execute_result"
    }
   ],
   "source": [
    "5 % 0.1"
   ]
  },
  {
   "cell_type": "code",
   "execution_count": null,
   "id": "63512a4b-da8d-4504-abfa-0c2f54f3f0b3",
   "metadata": {},
   "outputs": [],
   "source": []
  }
 ],
 "metadata": {
  "kernelspec": {
   "display_name": "Python 3 (ipykernel)",
   "language": "python",
   "name": "python3"
  },
  "language_info": {
   "codemirror_mode": {
    "name": "ipython",
    "version": 3
   },
   "file_extension": ".py",
   "mimetype": "text/x-python",
   "name": "python",
   "nbconvert_exporter": "python",
   "pygments_lexer": "ipython3",
   "version": "3.10.8"
  }
 },
 "nbformat": 4,
 "nbformat_minor": 5
}
